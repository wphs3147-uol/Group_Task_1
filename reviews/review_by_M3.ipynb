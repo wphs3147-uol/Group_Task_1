{
 "cells": [
  {
   "cell_type": "markdown",
   "metadata": {},
   "source": [
    "# Review for Team Member 1\n",
    "\n",
    "Testing Instructions:\n",
    "\n",
    "1. Run python data_cleaning_M1.py and verify that data/dataset_M1.txt is created.\n",
    "2. Confirm that output/cleaned_data_M1.txt contains dates in DD-MM-YYYY HH:MM:SS format.\n",
    "3. Check the console for any error messages during execution.\n",
    "\n",
    "Evaluation:\n",
    "\n",
    "Approach: M1’s script uses the requests library to download the dataset, then processes each line using Python’s csv module. The use of datetime.fromisoformat() to handle ISO 8601 dates is straightforward and effective for this assignment.\n",
    "\n",
    "Code Clarity: Functions are well-labeled, and variable names are descriptive. The script contains comments explaining key steps, making it easier to follow. Error messages clearly indicate any issues during the cleaning process.\n",
    "\n",
    "Functionality: The script correctly creates necessary folders (data/ and output/), downloads the file, and writes a cleaned dataset with the standardized date format. The handling of trailing characters (like 'Z') and any potential parsing errors is done through try/except blocks.\n",
    "\n",
    "Suggestions: Error Details: Including the specific row or problematic date when an error occurs would improve debugging.\n",
    "Documentation: A brief docstring in each function could clarify the purpose and expected inputs/outputs for future collaborators.\n",
    "\n",
    "Conclusion: Overall, M1’s solution meets the assignment requirements. Minor enhancements to error reporting and documentation would further improve maintainability.\n",
    "\n",
    "\n"
   ]
  },
  {
   "cell_type": "markdown",
   "metadata": {},
   "source": [
    "# Review for Team Member 2\n",
    "Testing Instructions:\n",
    "\n",
    "1. Run python data_cleaning_M2.py and check that data/dataset_M2.txt is generated.\n",
    "2. Verify that output/cleaned_data_M2.txt shows the dates in DD-MM-YYYY HH:MM:SS format.\n",
    "3. Test error handling by simulating a malformed date (if possible) and observe the console output.\n",
    "\n",
    "Evaluation:\n",
    "\n",
    "Approach: M2’s code similarly uses requests to retrieve the dataset, but relies on datetime.strptime() for parsing after removing any trailing \"Z\". This strategy effectively accommodates the ISO 8601 format while ensuring precise date/time conversion.\n",
    "\n",
    "Code Clarity: The script is neatly divided into two functions, each handling a clear segment of the workflow. Variable names are intuitive, and concise inline comments help explain why certain steps (e.g., stripping \"Z\") are necessary.\n",
    "\n",
    "Functionality: M2’s script reliably saves the raw data in data/ and outputs a cleaned file in output/. The date fields are successfully converted to the specified format, and basic error handling is present to catch any parsing issues.\n",
    "\n",
    "Suggestions: Enhanced Error Reporting: Logging the exact row or value that fails to parse would make troubleshooting easier.\n",
    "In-Line Clarification: Adding brief explanations of the date format strings (strptime and strftime) could be helpful for anyone less familiar with Python’s datetime module.\n",
    "\n",
    "Conclusion: M2’s solution effectively handles date formatting and file organization. Additional detail in error messages would enhance debugging clarity."
   ]
  }
 ],
 "metadata": {
  "language_info": {
   "name": "python"
  }
 },
 "nbformat": 4,
 "nbformat_minor": 2
}
