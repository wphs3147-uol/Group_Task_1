{
    "cells": [
        {
            "cell_type": "markdown",
            "metadata": {},
            "source": [
                "# Peer Review of Data Cleaning Scripts\n",
                "This notebook contains reviews and testing instructions for M2 and M3's data cleaning scripts."
            ]
        },
        {
            "cell_type": "markdown",
            "metadata": {},
            "source": [
                "## Instructions for Testing M2\u2019s Script\n",
                "1. Run the script and check if `dataset_M2.txt` is created in the `data/` folder.\n",
                "2. After execution, verify if `cleaned_data_M2.txt` appears in the `output/` folder.\n",
                "3. Open the cleaned file and check if the `\"time\"` column values are correctly formatted as `DD-MM-YYYY HH:MM:SS`.\n",
                "4. If no output file is generated, add a `print()` statement after writing the file to confirm whether the script reaches that step.\n",
                "5. Test with a modified dataset where the `\"time\"` column is missing to see how the script handles it."
            ]
        },
        {
            "cell_type": "markdown",
            "metadata": {},
            "source": [
                "## Evaluation of M2\u2019s Data Cleaning Script\n",
                "**Approach:** M2\u2019s script downloads the dataset, saves it as `dataset_M2.txt`, and processes it using `csv.reader()`. It identifies the `\"time\"` column and attempts to convert timestamps to the `DD-MM-YYYY HH:MM:SS` format. The cleaned data is then written to an output file.\n\n",
                "**Code Clarity:** The script is structured logically, with separate functions for downloading and cleaning. However, it does not explicitly confirm that the cleaned data is written to a file, making debugging difficult.\n\n",
                "**Efficiency:** M2 processes the entire dataset in memory, which may be inefficient for large files. Using `StringIO` for CSV handling is a good approach, but loading everything at once could cause performance issues.\n\n",
                "**Functionality & File Output:** The script does not generate the expected cleaned output file, suggesting that either the data processing step is incomplete or the writing function is not executing properly.\n\n",
                "**Suggestions for Improvement:**\n",
                "1. **Ensure the cleaned file is actually written** by adding a confirmation message.\n",
                "2. **Improve error handling** to log issues rather than just printing them.\n",
                "3. **Optimize memory usage** by processing the dataset row-by-row instead of all at once.\n\n",
                "**Conclusion:** M2\u2019s script is logically structured but does not produce an output file, limiting its effectiveness."
            ]
        },
        {
            "cell_type": "markdown",
            "metadata": {},
            "source": [
                "## Instructions for Testing M3\u2019s Script\n",
                "1. Run the script and ensure `dataset_M3.txt` appears in the `data/` folder.\n",
                "2. After execution, check if `cleaned_data_M3.txt` is created in the `output/` folder.\n",
                "3. Open the cleaned file and verify that all `\"time\"` column values are formatted as `DD-MM-YYYY HH:MM:SS`.\n",
                "4. Rename the `\"time\"` column in `dataset_M3.txt` to something else and rerun the script to see if it handles missing columns gracefully.\n",
                "5. Test with a large dataset to check memory usage and whether the script runs efficiently."
            ]
        },
        {
            "cell_type": "markdown",
            "metadata": {},
            "source": [
                "## Evaluation of M3\u2019s Data Cleaning Script\n",
                "**Approach:** M3\u2019s script downloads the dataset, saves it as `dataset_M3.txt`, and processes it using `csv.reader()`. It dynamically locates the `\"time\"` column instead of assuming a fixed position, making it more flexible for different dataset formats.\n\n",
                "**Code Clarity:** The script is well-structured with clear function definitions and docstrings explaining each step. However, if the `\"time\"` column is missing, the script raises an exception rather than handling the issue more gracefully.\n\n",
                "**Efficiency:** M3\u2019s script reads the entire dataset into memory before processing, which could be inefficient for large files. Using `StringIO` for in-memory CSV handling is practical, but processing the data **line-by-line** instead of all at once would make it more scalable.\n\n",
                "**Functionality & File Output:** Unlike M2\u2019s script, M3\u2019s script successfully generates the expected output file in most cases. However, the script may stop executing if the dataset structure is unexpected, such as if the `\"time\"` column is missing or incorrectly labeled.\n\n",
                "**Suggestions for Improvement:**\n",
                "1. **Handle missing `\"time\"` column more gracefully** rather than stopping execution.\n",
                "2. **Optimize memory usage** by processing the dataset row-by-row instead of reading everything at once.\n",
                "3. **Add logging for errors** instead of just raising exceptions, to provide better debugging insights.\n\n",
                "**Conclusion:** M3\u2019s script is well-structured, flexible, and correctly generates an output file, making it more reliable than M2\u2019s. However, it could benefit from better error handling to prevent crashes when the dataset structure is unexpected, and improving memory efficiency would make it more scalable."
            ]
        }
    ],
    "metadata": {
        "kernelspec": {
            "display_name": "Python 3",
            "language": "python",
            "name": "python3"
        },
        "language_info": {
            "codemirror_mode": {
                "name": "ipython",
                "version": 3
            },
            "file_extension": ".py",
            "mimetype": "text/x-python",
            "name": "python",
            "nbconvert_exporter": "python",
            "pygments_lexer": "ipython3",
            "version": "3.8.5"
        }
    },
    "nbformat": 4,
    "nbformat_minor": 4
}